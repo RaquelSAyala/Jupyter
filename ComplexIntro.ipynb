{
  "metadata": {
    "kernelspec": {
      "name": "python",
      "display_name": "Python (Pyodide)",
      "language": "python"
    },
    "language_info": {
      "codemirror_mode": {
        "name": "python",
        "version": 3
      },
      "file_extension": ".py",
      "mimetype": "text/x-python",
      "name": "python",
      "nbconvert_exporter": "python",
      "pygments_lexer": "ipython3",
      "version": "3.8"
    }
  },
  "nbformat_minor": 5,
  "nbformat": 4,
  "cells": [
    {
      "id": "89e66669-ce38-4e79-8dd8-067b7ae16174",
      "cell_type": "markdown",
      "source": "# Complex numbers\n\nBy: Luis Daniel Benavides N. (V1.0 26-01-2024)\n\n## Tutorial Outline\n\n1. Introduction to Complex Numbers\n    - Definition and notation\n    - Real and imaginary parts\n\n2. Basic Operations with Complex Numbers\n    - Addition, subtraction, multiplication, division\n    - Conjugate and absolute value\n\n3. Complex Numbers in Python\n    - Using Python's complex type\n    - Basic operations in Python\n  \n4. Polar Representation of Complex Numbers\n    - Polar representation\n    - Euler notation\n\n6. Application: Fractals and Complex Numbers\n    - Introduction to fractals\n    - Generating a Mandelbrot set\n\n7. Exercises for Students\n    - Practice problems on complex number operations\n    - Creating a Julia set fractal",
      "metadata": {}
    },
    {
      "id": "a306632f-095f-41af-8bf6-b50ee568a06a",
      "cell_type": "markdown",
      "source": "## Software Requirements\n\n    - numpy\n    - matplotlib\n    - ipywidgets",
      "metadata": {}
    },
    {
      "id": "513d253e-6b11-409a-aafc-135d6518757f",
      "cell_type": "markdown",
      "source": "# 1. Introduction to Complex Numbers\n    - Definition and notation\n    - Real and imaginary parts\n\nComplex numbers are an extension of the real numbers and are fundamental in advanced mathematics and engineering. They provide a solution to equations that have no real solutions, such as the square root of negative numbers.\n\n## Definition\n\nA complex number is defined as a number of the form $ a + bi $, where:\n\n- $ a $ and $ b $ are real numbers,\n- $ i $ is the imaginary unit with the property $ i² = -1 $.\n\nThe real part of the complex number is $ a $, and the imaginary part is $ b $.\n\n## Imaginary Unit\n\nThe imaginary unit $ i $ is defined by its property $ i² = -1 $. It allows the definition of complex numbers and facilitates the computation of the square root of negative numbers. For example, the square root of -1 is represented as $ i $, and the square root of -4 is $ 2i $.\n\n## Complex Plane\n\nThe complex plane is a two-dimensional plane where complex numbers are graphed. The horizontal axis represents the real part, and the vertical axis represents the imaginary part.\n\n## Applications\n\nComplex numbers have applications in various fields, including engineering, physics, computer science, and more. They are especially useful in representing oscillations, waves, and other phenomena involving two-dimensional quantities.\n",
      "metadata": {}
    },
    {
      "id": "f9098711-d344-457d-aac0-2646e25ff44d",
      "cell_type": "markdown",
      "source": "# 2. Basic Operations with Complex Numbers\n\n    Addition, subtraction, multiplication, division\n    Conjugate and modulus value\n\n## Algebraic Operations\n\nComplex numbers can be added, subtracted, multiplied, and divided:\n\n- **Addition**: $+: \\mathbb{C} \\times \\mathbb{C}   \\rightarrow \\mathbb{C}:  (a_1+b_1i) + (a_2+b_2i) = (a_1+a_2) + (b_1+b_2)i$\n- **Subtraction**: $-: \\mathbb{C} \\times \\mathbb{C}   \\rightarrow \\mathbb{C}: (a + bi) - (c + di) = (a - c) + (b - d)i $\n- **Multiplication**: $+: \\mathbb{C} \\times \\mathbb{C}   \\rightarrow \\mathbb{C}: (a + bi)(c + di) = (ac - bd) + (ad + bc)i $\n- **Division**: $/: \\mathbb{C} \\times \\mathbb{C}   \\rightarrow \\mathbb{C}: \\frac{a + bi}{c + di} = \\frac{(ac + bd) + (bc - ad)i}{c² + d²} $\n\n## Complex Conjugate\n\nThe complex conjugate of a complex number \\( a + bi \\) is \\( a - bi \\). It is obtained by changing the sign of the imaginary part. This concept is particularly useful in division and in finding the magnitude of complex numbers.\n\n$$ \\text{ }^{-} : \\mathbb{C} \\rightarrow \\mathbb{C} : \\bar c = \\overline {a + bi} = a -bi $$\n\n## Magnitude (Modulus)\n\nThe magnitude (or modulus) of a complex number \\( a + bi \\) is given by \\( \\sqrt{a² + b²} \\). It represents the distance of the complex number from the origin in the complex plane.\n\n$$| \\text{ }| : \\mathbb{C} \\rightarrow \\mathbb{R} : |c| = |a + bi| = + \\sqrt{a^2+b^2}$$\n\n",
      "metadata": {}
    },
    {
      "id": "1909a16a-4b1b-4ed4-b4ed-867bd11c625a",
      "cell_type": "markdown",
      "source": "# 3. Complex Numbers in Python\n    - Using Python's complex type\n    - Basic operations in Python",
      "metadata": {}
    },
    {
      "id": "615168dd-713f-45f3-9e66-ccc96582d4d5",
      "cell_type": "code",
      "source": "# Example: Complex number operations in Python\n\n# Creating complex numbers\nz1 = complex(2, 3)  # 2 + 3j\nz2 = complex(1, -1) # 1 - 1j\nz3 = 2 + 2j\n\n# Basic operations\nprint(\"Addition:\", z1 + z2)\nprint(\"Subtraction:\", z1 - z2)\nprint(\"Multiplication:\", z1 * z2)\nprint(\"Division:\", z1 / z2)\n\n# Conjugate and absolute value\nprint(\"Conjugate of z1:\", z1.conjugate())\nprint(\"Absolute value of z1:\", abs(z1))\nprint(\"Absolute value of z1:\", abs(z2))\nprint(\"Absolute value of z1:\", abs(z3))\n",
      "metadata": {
        "trusted": true
      },
      "outputs": [],
      "execution_count": null
    },
    {
      "id": "b4843c53-587e-4ca0-bed8-b5114caf7872",
      "cell_type": "markdown",
      "source": "# 4. Polar Representation of Complex Numbers\n\nIn addition to the rectangular form (a + bi), complex numbers can also be represented in polar form. The polar form of a complex number expresses it in terms of a magnitude (r) and an angle (θ), and is written as `r(cos θ + i sin θ)` or `r∠θ`. This form is particularly useful in quantum computing, signal processing, and other fields where phase and amplitude are important.\n\n## Key Concepts\n- **Magnitude (r)**: The distance of the complex number from the origin in the complex plane, calculated as `sqrt(a^2 + b^2)`.\n- **Angle (θ)**: The counterclockwise angle measured from the positive x-axis to the line segment that joins the point to the origin, often given in radians.\n- **Euler's Formula**: `e^(iθ) = cos θ + i sin θ`, which allows the polar form to be written as `r * e^(iθ)`.\n\n## Converting between Rectangular and Polar Forms\n- To convert from rectangular to polar form, use `r = sqrt(a^2 + b^2)` and `θ = atan2(b, a)`.\n- To convert from polar to rectangular form, use `a = r * cos(θ)` and `b = r * sin(θ)`.\n\n## Python Implementation\nUse Python's `cmath` module for working with complex numbers in polar form.\n",
      "metadata": {}
    },
    {
      "id": "8cb18818-65d0-46ef-835f-834dcd7ef711",
      "cell_type": "code",
      "source": "import cmath\n\n# Example: Converting a complex number to its polar form and back\n\n# Define a complex number in rectangular form\nz = complex(3, 4)\n\n# Convert to polar form\nr, theta = cmath.polar(z)\nprint(f\"Polar form: Magnitude = {r}, Angle = {theta} radians\")\n\n# Convert back to rectangular form\nrectangular_form = cmath.rect(r, theta)\nprint(f\"Rectangular form: {rectangular_form}\")\n",
      "metadata": {
        "trusted": true
      },
      "outputs": [],
      "execution_count": null
    },
    {
      "id": "94cd256c-77e4-4414-8eee-31de4fad30c1",
      "cell_type": "markdown",
      "source": "## An interactive tool for polar and cartesian conversion",
      "metadata": {}
    },
    {
      "id": "f551d4e5-90fb-4934-982c-a225579c328d",
      "cell_type": "code",
      "source": "import cmath\nimport matplotlib.pyplot as plt\nimport numpy as np\nimport ipywidgets as widgets\nfrom IPython.display import display\n\ndef convert_and_plot(real=0, imaginary=0, magnitude=0, angle=0, convert_to='polar'):\n    if convert_to == 'polar':\n        z = complex(real, imaginary)\n        r, theta = cmath.polar(z)\n        display_text = f\"Cartesian: ({real}, {imaginary}) -> Polar: (r={r:.2f}, θ={np.degrees(theta):.2f}°)\"\n    else:\n        z = cmath.rect(magnitude, np.radians(angle))\n        display_text = f\"Polar: (r={magnitude}, θ={angle}°) -> Cartesian: ({z.real:.2f}, {z.imag:.2f})\"\n\n    fig, ax = plt.subplots()\n    ax.plot([0, z.real], [0, z.imag], 'ro-')\n    ax.set_xlim(-5, 5)\n    ax.set_ylim(-5, 5)\n    ax.set_xlabel('Real')\n    ax.set_ylabel('Imaginary')\n    ax.axhline(0, color='black',linewidth=0.5)\n    ax.axvline(0, color='black',linewidth=0.5)\n    ax.grid(True)\n    plt.title(display_text)\n    plt.show()\n\nstyle = {'description_width': 'initial'}\nlayout = widgets.Layout(width='400px')\n\n# Creating interactive widgets\nreal_slider = widgets.FloatSlider(min=-5, max=5, step=0.1, value=0, description='Real Part:', style=style, layout=layout)\nimaginary_slider = widgets.FloatSlider(min=-5, max=5, step=0.1, value=0, description='Imaginary Part:', style=style, layout=layout)\nmagnitude_slider = widgets.FloatSlider(min=0, max=5, step=0.1, value=1, description='Magnitude:', style=style, layout=layout)\nangle_slider = widgets.FloatSlider(min=-180, max=180, step=1, value=0, description='Angle (degrees):', style=style, layout=layout)\nconvert_dropdown = widgets.Dropdown(options=['polar', 'cartesian'], value='polar', description='Convert to:', style=style, layout=layout)\n\n# Interactive function\n\nui = widgets.VBox([widgets.HBox([real_slider, imaginary_slider]), \n                   widgets.HBox([magnitude_slider, angle_slider]),\n                   convert_dropdown])\nout = widgets.interactive_output(convert_and_plot, {'real': real_slider, 'imaginary': imaginary_slider, \n                                                    'magnitude': magnitude_slider, 'angle': angle_slider, \n                                                    'convert_to': convert_dropdown})\n\ndisplay(ui, out)\n\n",
      "metadata": {
        "trusted": true
      },
      "outputs": [],
      "execution_count": null
    },
    {
      "id": "b7e0ce56-5b88-451e-88fa-1b3eb40429c0",
      "cell_type": "code",
      "source": "",
      "metadata": {
        "trusted": true
      },
      "outputs": [],
      "execution_count": null
    },
    {
      "id": "9d0830c5-1f26-4633-b471-6589ca01580c",
      "cell_type": "markdown",
      "source": "## Euler's Notation for Complex Numbers\n\nEuler's formula is a fundamental equation in complex analysis and provides a deep connection between trigonometry and complex exponential functions. It states that for any real number `x`, the following identity holds:\n\n$$ e^{ix} = \\cos(x) + i\\sin(x) $$\n\nThis equation is known as Euler's formula. In this formula, `e` is the base of the natural logarithm, `i` is the imaginary unit, and `cos` and `sin` are the trigonometric functions cosine and sine respectively. The formula is often used in the polar representation of complex numbers.\n\n### Polar Representation Using Euler's Formula\n\nA complex number can be represented in polar coordinates as `r(cos θ + i sin θ)`. Using Euler's formula, this can be written in the more compact form:\n\n$$ z = r \\cdot e^{iθ} $$\n\nwhere `r` is the magnitude (modulus) of the complex number, and `θ` is the angle formed with the positive real axis, often referred to as the argument of the complex number.\n\n### Applications\n\nEuler's formula is widely used in various fields such as electrical engineering, quantum mechanics, and signal processing. It simplifies the analysis of waveforms, oscillations, and rotating systems.\n",
      "metadata": {}
    },
    {
      "id": "2e7d46fd-6e9b-4943-88c1-cc0b9f647dad",
      "cell_type": "code",
      "source": "import cmath\nimport numpy as np\n\n# Example to demonstrate Euler's notation for complex numbers\n\n# Define magnitude and angle\nr = 2.0  # Magnitude\ntheta = np.pi / 4  # Angle in radians (45 degrees)\n\n# Using Euler's formula: z = r * e^(iθ)\nz = r * cmath.exp(complex(0, theta))\n\nprint(f\"Complex number using Euler's notation: {z}\")\n\n# Verify by converting to Cartesian form\nreal_part = z.real\nimaginary_part = z.imag\nprint(f\"Cartesian form: {real_part} + {imaginary_part}i\")\n",
      "metadata": {
        "trusted": true
      },
      "outputs": [
        {
          "name": "stdout",
          "text": "Complex number using Euler's notation: (1.4142135623730951+1.414213562373095j)\nCartesian form: 1.4142135623730951 + 1.414213562373095i\n",
          "output_type": "stream"
        }
      ],
      "execution_count": 2
    },
    {
      "id": "903ec828-a9eb-4a11-9aa9-29e0b6416894",
      "cell_type": "markdown",
      "source": "# 5. Application: Fractals and Complex Numbers\n    - Introduction to fractals\n    - Generating a Mandelbrot set\n\n## Understanding the Mandelbrot Set\n\nThe Mandelbrot Set is a fascinating and complex structure in the field of fractal geometry, discovered by mathematician Benoit Mandelbrot in 1980. It's a set of complex numbers that forms an intricate and infinitely detailed boundary when plotted in the complex plane.\n\n### What is the Mandelbrot Set?\nThe Mandelbrot Set is defined as the set of complex numbers `c` for which the function `f(z) = z^2 + c` does not diverge when iterated from `z = 0`. In simpler terms, if repeatedly squaring the number and adding `c` never makes the value go to infinity, that number is part of the Mandelbrot Set.\n\n### Key Concepts:\n- **Iteration**: Starting with `z = 0`, we repeatedly apply the function `f(z) = z^2 + c`. The behavior of this sequence determines if `c` is in the Mandelbrot Set.\n- **Boundedness**: If the sequence remains bounded (doesn't go to infinity), then `c` is in the Mandelbrot Set.\n- **Escape Time Algorithm**: To visualize the set, we use an algorithm that assigns a color based on how quickly the values reach a certain threshold when iterated. Points inside the set typically remain black.\n\n### Properties of the Mandelbrot Set:\n- **Self-Similarity**: The set is fractal, meaning it contains smaller copies of itself.\n- **Complex Boundary**: The boundary of the Mandelbrot Set is infinitely complex. Zooming into the boundary reveals more detail.\n- **Area**: While the exact area of the Mandelbrot Set is unknown, it is finite.\n- **Connectedness**: Despite its complexity, the set is mathematically proven to be a connected set.\n\n### Plotting the Mandelbrot Set:\nTo visualize the set, we iterate over a grid of complex numbers and use the escape time algorithm to color each point. Points that remain bounded (do not escape) after a set number of iterations are considered part of the Mandelbrot Set and are usually colored black.\n\nThe beauty of the Mandelbrot Set lies not just in its visual complexity, but also in the way it bridges mathematics, art, and computer science. It serves as a powerful example of how simple rules can lead to incredibly intricate structures.\n",
      "metadata": {}
    },
    {
      "id": "b6f5d496-c721-416b-a026-003cf91be10a",
      "cell_type": "code",
      "source": "# Example: Generating a Mandelbrot set\n\nimport numpy as np\nimport matplotlib.pyplot as plt\n\ndef mandelbrot(c, max_iter):\n    z = 0\n    for n in range(max_iter):\n        if abs(z) > 2:\n            return n\n        z = z*z + c\n    return max_iter\n\n# Create a grid of complex numbers\npixels = 800\nmax_iter = 30\nx = np.linspace(-2, 1, pixels)\ny = np.linspace(-1.5, 1.5, pixels)\nxx, yy = np.meshgrid(x, y)\nc = xx + yy*1j\n\n# Compute Mandelbrot set\nmandelbrot_set = np.array([mandelbrot(ci, max_iter) for ci in c.ravel()]).reshape(c.shape)\n\n# Plot\nplt.imshow(mandelbrot_set, extent=[-2, 1, -1.5, 1.5])\nplt.colorbar()\nplt.title(\"Mandelbrot Set\")\nplt.show()\n",
      "metadata": {
        "trusted": true
      },
      "outputs": [],
      "execution_count": null
    },
    {
      "id": "86e4c29a-ddee-4eca-b7ee-765f51b7cd28",
      "cell_type": "markdown",
      "source": "# 6. Exercises for Students\n    - Practice problems on complex number operations\n    - Creating a Julia set fractal",
      "metadata": {}
    },
    {
      "id": "e65225e2-2518-4910-9fbc-9000042b22db",
      "cell_type": "markdown",
      "source": "\n## Exercise 1: Basic Complex Number Operations\n1. Manually calculate and then verify using Python the result of `(3 + 4j) + (1 - 2j)`, `(5 + 6j) * (7 - 8j)`, and `(2 - 3j) / (1 + 4j)`.\n2. Find the conjugate and modulus of `(3 - 4j)`.\n\n## Exercise 2: Visualizing Complex Operations\n1. Write a Python function to plot a complex number on the complex plane. Use it to plot `(3 + 4j)` and its conjugate.\n2. Extend the function to show addition and multiplication of two complex numbers graphically.\n\n## Exercise 3: Exploring the Mandelbrot Set\n1. Modify the provided Mandelbrot set code to change its zoom level and center point. Observe how the fractal pattern changes.\n2. Experiment with different values of `max_iter` and observe the effect on the fractal's detail and computation time.\n\n## Exercise 4: Creating a Julia Set\n1. Implement a Julia set generator. Use a constant like `-0.4 + 0.6j` for the iteration `z = z*z + constant`.\n2. Explore how changing the constant changes the pattern of the Julia set.\n\n## Exercise 5: Complex Number Properties\n1. Prove that the absolute value of a product of two complex numbers is the product of their absolute values.\n2. Show that the conjugate of a sum of two complex numbers is the sum of their conjugates.\n\n",
      "metadata": {}
    },
    {
      "id": "fa8403b3-2495-4246-b3fe-98d1078cc11a",
      "cell_type": "markdown",
      "source": "# Solucion:",
      "metadata": {}
    },
    {
      "id": "2b5e84d0-f560-424a-b6ac-11677ec75d41",
      "cell_type": "markdown",
      "source": "# Exercise 1: Basic Complex Number Operations\n1. Manually calculate and then verify using Python the result of `(3 + 4j) + (1 - 2j)`, `(5 + 6j) * (7 - 8j)`, and `(2 - 3j) / (1 + 4j)`.\n2. Find the conjugate and modulus of `(3 - 4j)`.",
      "metadata": {}
    },
    {
      "id": "a2dc9513-3025-4076-abeb-515c14b1b46d",
      "cell_type": "code",
      "source": "import cmath\n\n# Operación de suma\nsuma_resultado = (3 + 4j) + (1 - 2j)\n\n# Operación de multiplicación\nmultiplicacion_resultado = (5 + 6j) * (7 - 8j)\n\n# Operación de división\ndivision_resultado = (2 - 3j) / (1 + 4j)\n\n# Conjugado y módulo de un número complejo\nnumero_complejo = 3 - 4j\nconjugado = numero_complejo.conjugate()\nmodulo = abs(numero_complejo)\n\n# Imprimir resultados\nprint(\"El resultado de la suma es:\", suma_resultado)\nprint(\"El resultado de la multiplicación es:\", multiplicacion_resultado)\nprint(\"El resultado de la división es:\", division_resultado)\nprint(\"El conjugado de (3 - 4j) es:\", conjugado)\nprint(\"El módulo de (3 - 4j) es:\", modulo)",
      "metadata": {
        "trusted": true
      },
      "outputs": [],
      "execution_count": null
    },
    {
      "id": "0fb402ef-cb36-425c-8de3-1e8c04200304",
      "cell_type": "markdown",
      "source": "# Exercise 2: Visualizing Complex Operations",
      "metadata": {}
    },
    {
      "id": "d8ee2bd7-bffd-4c08-8cdb-7ee25e0f3648",
      "cell_type": "markdown",
      "source": "1. Write a Python function to plot a complex number on the complex plane. Use it to plot `(3 + 4j)` and its conjugate.\n2. Extend the function to show addition and multiplication of two complex numbers graphically.\n",
      "metadata": {}
    },
    {
      "id": "34d87e41-9f08-4ed7-a433-307ef6242687",
      "cell_type": "code",
      "source": "import matplotlib.pyplot as plt\n\ndef plot_complex_number(z, label=None, color='blue', marker='o'):\n   \n    plt.plot(z.real, z.imag, color=color, marker=marker, label=label)\n    plt.xlabel('Real')\n    plt.ylabel('Imaginary')\n    plt.title('Complex Plane')\n    plt.grid(True)\n    plt.axhline(0, color='black', linewidth=0.5)\n    plt.axvline(0, color='black', linewidth=0.5)\n    plt.legend()\n    plt.axis('equal')\n\n# Números complejos dados\nz1 = 3 + 4j\nz2 = z1.conjugate()\n\n# Trazar los números complejos y su conjugado\nplot_complex_number(z1, label='(3 + 4j)', color='blue', marker='o')\nplot_complex_number(z2, label='Conjugate', color='red', marker='x')\n\n# Mostrar el gráfico\nplt.show()",
      "metadata": {
        "trusted": true
      },
      "outputs": [],
      "execution_count": null
    },
    {
      "id": "17ed6e8f-9af1-48b1-8220-27ca9b2ce133",
      "cell_type": "code",
      "source": "",
      "metadata": {
        "trusted": true
      },
      "outputs": [],
      "execution_count": null
    },
    {
      "id": "c255b5f6-37d5-488a-9a12-c60993be8706",
      "cell_type": "markdown",
      "source": "# Exercise 3: Exploring the Mandelbrot Set",
      "metadata": {}
    },
    {
      "id": "69807c40-aeb9-4985-a44f-180d0c5e1f78",
      "cell_type": "markdown",
      "source": "1. Modify the provided Mandelbrot set code to change its zoom level and center point. Observe how the fractal pattern changes.\n2. Experiment with different values of `max_iter` and observe the effect on the fractal's detail and computation time.",
      "metadata": {}
    },
    {
      "id": "673bfb23-9772-4472-bda7-bac7eac2df5f",
      "cell_type": "code",
      "source": "import matplotlib.pyplot as plt\n\ndef plot_complex_number(z, label=None, color='blue', marker='o'):\n    \n    plt.plot(z.real, z.imag, color=color, marker=marker, label=label)\n    plt.xlabel('Real')\n    plt.ylabel('Imaginary')\n    plt.title('Complex Plane')\n    plt.grid(True)\n    plt.axhline(0, color='black', linewidth=0.5)\n    plt.axvline(0, color='black', linewidth=0.5)\n    plt.legend()\n    plt.axis('equal')\n\n# Definimos el zoom level y el punto central\nzoom_level = 0.5\ncenter_point = 0 + 0j\n\n# Definimos los números complejos\nz1 = 3 + 4j\nz2 = z1.conjugate()\n\n# Aplicamos el zoom y el cambio de centro\nz1 = zoom_level * (z1 - center_point) + center_point\nz2 = zoom_level * (z2 - center_point) + center_point\n\n# Trazamos los números complejos y su conjugado\nplot_complex_number(z1, label='(3 + 4j)', color='blue', marker='o')\nplot_complex_number(z2, label='Conjugate', color='red', marker='x')\n\n# Mostramos el gráfico\nplt.show()",
      "metadata": {
        "trusted": true
      },
      "outputs": [],
      "execution_count": null
    },
    {
      "id": "39a67355-f5ac-4d01-a401-3adbf19fd603",
      "cell_type": "markdown",
      "source": "# Exercise 4: Creating a Julia Set",
      "metadata": {}
    },
    {
      "id": "65f745be-db93-425e-a96b-ff236e1c7f0b",
      "cell_type": "code",
      "source": "import numpy as np\nimport matplotlib.pyplot as plt\n\ndef julia_set(width, height, real_min, real_max, imag_min, imag_max, max_iter, c):\n    # Crear matriz de valores complejos que cubra el área deseada en el plano complejo\n    real_values = np.linspace(real_min, real_max, width)\n    imag_values = np.linspace(imag_min, imag_max, height)\n    complex_grid = np.array([[complex(real, imag) for real in real_values] for imag in imag_values])\n    \n    # Inicializar matriz para almacenar los valores de iteración\n    julia = np.zeros((height, width))\n    \n    # Calcular valores de iteración\n    for i in range(max_iter):\n        julia = julia * julia + c\n        julia[np.abs(julia) > 2] = i\n    \n    return julia\n\ndef plot_julia_set(julia_set):\n    plt.imshow(julia_set, cmap='hot', extent=[-2, 2, -2, 2])\n    plt.colorbar(label='Iterations')\n    plt.title('Julia Set')\n    plt.xlabel('Real')\n    plt.ylabel('Imaginary')\n    plt.show()\n\n# Definir las dimensiones del plano complejo y el número máximo de iteraciones\nwidth = 800\nheight = 800\nreal_min = -2\nreal_max = 2\nimag_min = -2\nimag_max = 2\nmax_iter = 100\n\n# Definir la constante para el conjunto de Julia\nc = -0.4 + 0.6j\n\n# Generar el conjunto de Julia\njulia = julia_set(width, height, real_min, real_max, imag_min, imag_max, max_iter, c)\n\n# Graficar el conjunto de Julia\nplot_julia_set(julia)",
      "metadata": {
        "trusted": true
      },
      "outputs": [],
      "execution_count": null
    },
    {
      "id": "db51a3e8-7fbf-4699-b741-e2d1b5fcb41e",
      "cell_type": "markdown",
      "source": "# Exercise 5: Complex Number Properties",
      "metadata": {}
    },
    {
      "id": "b0989fb3-1a97-42d6-b44d-09039c273eb2",
      "cell_type": "markdown",
      "source": "1. Prove that the absolute value of a product of two complex numbers is the product of their absolute values.\n2. Show that the conjugate of a sum of two complex numbers is the sum of their conjugates.\n",
      "metadata": {}
    },
    {
      "id": "7a3554ad-e917-4950-abfb-dfb94f96a459",
      "cell_type": "code",
      "source": "import numpy as np\n\n# Función para calcular el valor absoluto de un número complejo\ndef valor_absoluto_complejo(z):\n    return np.sqrt(z.real**2 + z.imag**2)\n\n# Generar números complejos aleatorios\nz1 = np.random.uniform(-10, 10) + np.random.uniform(-10, 10) * 1j\nz2 = np.random.uniform(-10, 10) + np.random.uniform(-10, 10) * 1j\n\n# Calcular los valores absolutos de z1 y z2\nabs_z1 = valor_absoluto_complejo(z1)\nabs_z2 = valor_absoluto_complejo(z2)\n\n# Calcular el valor absoluto del producto de z1 y z2\nabs_product = valor_absoluto_complejo(z1 * z2)\n\n# Verificar la propiedad |z1 * z2| = |z1| * |z2|\nif np.isclose(abs_product, abs_z1 * abs_z2):\n    print(\"El valor absoluto del producto de dos números complejos es igual al producto de sus valores absolutos.\")\nelse:\n    print(\"La propiedad no se cumple para los números complejos dados.\")",
      "metadata": {
        "trusted": true
      },
      "outputs": [],
      "execution_count": null
    }
  ]
}